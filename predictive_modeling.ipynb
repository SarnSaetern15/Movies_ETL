{
 "cells": [
  {
   "cell_type": "markdown",
   "id": "e56d1202",
   "metadata": {},
   "source": [
    "# Predictive Modeling"
   ]
  },
  {
   "cell_type": "code",
   "execution_count": 1,
   "id": "d0736c10",
   "metadata": {},
   "outputs": [],
   "source": [
    "import pandas as pd\n",
    "import sqlite3 \n",
    "import seaborn as sns\n",
    "from sklearn.model_selection import train_test_split\n",
    "from sklearn.linear_model import LinearRegression"
   ]
  },
  {
   "cell_type": "code",
   "execution_count": 2,
   "id": "f4ec5515",
   "metadata": {},
   "outputs": [
    {
     "data": {
      "text/html": [
       "<div>\n",
       "<style scoped>\n",
       "    .dataframe tbody tr th:only-of-type {\n",
       "        vertical-align: middle;\n",
       "    }\n",
       "\n",
       "    .dataframe tbody tr th {\n",
       "        vertical-align: top;\n",
       "    }\n",
       "\n",
       "    .dataframe thead th {\n",
       "        text-align: right;\n",
       "    }\n",
       "</style>\n",
       "<table border=\"1\" class=\"dataframe\">\n",
       "  <thead>\n",
       "    <tr style=\"text-align: right;\">\n",
       "      <th></th>\n",
       "      <th>timestamp</th>\n",
       "      <th>movie_title</th>\n",
       "      <th>year</th>\n",
       "      <th>length</th>\n",
       "      <th>rotten_tomatoes</th>\n",
       "      <th>IMDb</th>\n",
       "      <th>video_ID</th>\n",
       "      <th>source</th>\n",
       "    </tr>\n",
       "  </thead>\n",
       "  <tbody>\n",
       "    <tr>\n",
       "      <th>0</th>\n",
       "      <td>01/04/2023 12:43:09AM</td>\n",
       "      <td>Rush Hour</td>\n",
       "      <td>1998</td>\n",
       "      <td>1h 38m</td>\n",
       "      <td>61%</td>\n",
       "      <td>7.0/10</td>\n",
       "      <td>FB7SfJb4xB8</td>\n",
       "      <td>API</td>\n",
       "    </tr>\n",
       "    <tr>\n",
       "      <th>1</th>\n",
       "      <td>01/04/2023 12:43:11AM</td>\n",
       "      <td>Rush Hour 2</td>\n",
       "      <td>2001</td>\n",
       "      <td>1h 30m</td>\n",
       "      <td>51%</td>\n",
       "      <td>6.6/10</td>\n",
       "      <td>eeJySF7u4VA</td>\n",
       "      <td>API</td>\n",
       "    </tr>\n",
       "    <tr>\n",
       "      <th>2</th>\n",
       "      <td>01/04/2023 12:44:20AM</td>\n",
       "      <td>X-Men</td>\n",
       "      <td>2000</td>\n",
       "      <td>1h 44m</td>\n",
       "      <td>82%</td>\n",
       "      <td>7.3/10</td>\n",
       "      <td>FOjS4mVKFTw</td>\n",
       "      <td>API</td>\n",
       "    </tr>\n",
       "    <tr>\n",
       "      <th>3</th>\n",
       "      <td>01/04/2023 12:44:25AM</td>\n",
       "      <td>American Pie</td>\n",
       "      <td>1999</td>\n",
       "      <td>1h 35m</td>\n",
       "      <td>61%</td>\n",
       "      <td>7.0/10</td>\n",
       "      <td>VoFSo5c20eM</td>\n",
       "      <td>API</td>\n",
       "    </tr>\n",
       "    <tr>\n",
       "      <th>4</th>\n",
       "      <td>01/04/2023 12:44:35AM</td>\n",
       "      <td>Rocky</td>\n",
       "      <td>1976</td>\n",
       "      <td>2h 0m</td>\n",
       "      <td>91%</td>\n",
       "      <td>8.1/10</td>\n",
       "      <td>UTIWq-SG2w4</td>\n",
       "      <td>API</td>\n",
       "    </tr>\n",
       "  </tbody>\n",
       "</table>\n",
       "</div>"
      ],
      "text/plain": [
       "               timestamp   movie_title  year  length rotten_tomatoes    IMDb  \\\n",
       "0  01/04/2023 12:43:09AM     Rush Hour  1998  1h 38m             61%  7.0/10   \n",
       "1  01/04/2023 12:43:11AM   Rush Hour 2  2001  1h 30m             51%  6.6/10   \n",
       "2  01/04/2023 12:44:20AM         X-Men  2000  1h 44m             82%  7.3/10   \n",
       "3  01/04/2023 12:44:25AM  American Pie  1999  1h 35m             61%  7.0/10   \n",
       "4  01/04/2023 12:44:35AM         Rocky  1976   2h 0m             91%  8.1/10   \n",
       "\n",
       "      video_ID source  \n",
       "0  FB7SfJb4xB8    API  \n",
       "1  eeJySF7u4VA    API  \n",
       "2  FOjS4mVKFTw    API  \n",
       "3  VoFSo5c20eM    API  \n",
       "4  UTIWq-SG2w4    API  "
      ]
     },
     "execution_count": 2,
     "metadata": {},
     "output_type": "execute_result"
    }
   ],
   "source": [
    "#reads movies table from database file into a dataframe \n",
    "pathway = \"C:/Users/sarns/Desktop/Personal_Proj/Movies_ETL/movies_etl_db.db\"\n",
    "conn = sqlite3.connect(pathway)\n",
    "df = pd.read_sql_query(\"SELECT * from movies\", conn)\n",
    "df.head()"
   ]
  },
  {
   "cell_type": "markdown",
   "id": "2e1ac3b7",
   "metadata": {},
   "source": [
    "### Clean and Transforms data from string to float"
   ]
  },
  {
   "cell_type": "code",
   "execution_count": 3,
   "id": "870f1e86",
   "metadata": {},
   "outputs": [],
   "source": [
    "# drop rows with missing rotten tomato score\n",
    "df =df[df.rotten_tomatoes != 'NA']"
   ]
  },
  {
   "cell_type": "code",
   "execution_count": 4,
   "id": "711103e7",
   "metadata": {},
   "outputs": [],
   "source": [
    "#changes rotten tomatoes column from string type percentage to float type percentage\n",
    "df['rotten_tomatoes'] = df['rotten_tomatoes'].str.rstrip('%').astype(float)/100 "
   ]
  },
  {
   "cell_type": "code",
   "execution_count": 5,
   "id": "2407b92a",
   "metadata": {},
   "outputs": [],
   "source": [
    "#changes rotten tomatoes column from string type percentage to float type percentage\n",
    "df['IMDb'] = df['IMDb'].str.rstrip('/10').astype(float)"
   ]
  },
  {
   "cell_type": "code",
   "execution_count": 6,
   "id": "62ac06f4",
   "metadata": {},
   "outputs": [
    {
     "name": "stdout",
     "output_type": "stream",
     "text": [
      "<class 'pandas.core.frame.DataFrame'>\n",
      "Int64Index: 69 entries, 0 to 71\n",
      "Data columns (total 8 columns):\n",
      " #   Column           Non-Null Count  Dtype  \n",
      "---  ------           --------------  -----  \n",
      " 0   timestamp        69 non-null     object \n",
      " 1   movie_title      69 non-null     object \n",
      " 2   year             69 non-null     object \n",
      " 3   length           69 non-null     object \n",
      " 4   rotten_tomatoes  69 non-null     float64\n",
      " 5   IMDb             69 non-null     float64\n",
      " 6   video_ID         69 non-null     object \n",
      " 7   source           69 non-null     object \n",
      "dtypes: float64(2), object(6)\n",
      "memory usage: 4.9+ KB\n"
     ]
    }
   ],
   "source": [
    "df.info()"
   ]
  },
  {
   "cell_type": "markdown",
   "id": "3ac993da",
   "metadata": {},
   "source": [
    "### Linear Regression"
   ]
  },
  {
   "cell_type": "code",
   "execution_count": 7,
   "id": "13dd7de1",
   "metadata": {},
   "outputs": [
    {
     "data": {
      "text/plain": [
       "0.7220008469409231"
      ]
     },
     "execution_count": 7,
     "metadata": {},
     "output_type": "execute_result"
    }
   ],
   "source": [
    "# correlation coefficient of > 0.7 is considered highly correlated\n",
    "corr = df['rotten_tomatoes'].corr(df['IMDb'])\n",
    "corr"
   ]
  },
  {
   "cell_type": "code",
   "execution_count": 8,
   "id": "50b8a332",
   "metadata": {},
   "outputs": [],
   "source": [
    "# split the columns into test and training datasets, where the test dataset consists of 30% of the total dataset. \n",
    "x_train, x_test, y_train, y_test = train_test_split(\n",
    "df[['IMDb']], df[['rotten_tomatoes']], \n",
    "test_size=0.33, random_state=42) #random_state - if set to an integer value, the shuffling can be reproduced. Otherwise, the shuffling is random"
   ]
  },
  {
   "cell_type": "code",
   "execution_count": 9,
   "id": "b9f248e4",
   "metadata": {},
   "outputs": [
    {
     "data": {
      "text/plain": [
       "LinearRegression()"
      ]
     },
     "execution_count": 9,
     "metadata": {},
     "output_type": "execute_result"
    }
   ],
   "source": [
    "# Creates a LinearRegression object, and then fit the training dataset to the model.\n",
    "linearModel = LinearRegression()\n",
    "linearModel.fit(x_train, y_train)"
   ]
  },
  {
   "cell_type": "code",
   "execution_count": 10,
   "id": "833c4a9f",
   "metadata": {},
   "outputs": [
    {
     "data": {
      "text/plain": [
       "0.3701258309689126"
      ]
     },
     "execution_count": 10,
     "metadata": {},
     "output_type": "execute_result"
    }
   ],
   "source": [
    "# Score the model using the test dataset.\n",
    "# 0.37 is a moderate score; we can say that 9% of the variance is explained. \n",
    "linearModel.score(x_test, y_test)"
   ]
  },
  {
   "cell_type": "code",
   "execution_count": 11,
   "id": "8d2783ab",
   "metadata": {},
   "outputs": [
    {
     "data": {
      "text/plain": [
       "array([[ 0.46589069],\n",
       "       [ 0.62721015],\n",
       "       [ 0.76836468],\n",
       "       [ 0.82885947],\n",
       "       [ 0.54655042],\n",
       "       [ 0.62721015],\n",
       "       [ 0.86918934],\n",
       "       [ 0.62721015],\n",
       "       [ 0.82885947],\n",
       "       [ 0.46589069],\n",
       "       [ 0.38523096],\n",
       "       [ 0.22391151],\n",
       "       [ 0.82885947],\n",
       "       [ 0.54655042],\n",
       "       [ 0.30457124],\n",
       "       [ 0.66754002],\n",
       "       [ 0.42556083],\n",
       "       [ 0.66754002],\n",
       "       [-0.219717  ],\n",
       "       [ 0.94984907],\n",
       "       [ 0.66754002],\n",
       "       [ 0.56671536],\n",
       "       [ 0.38523096]])"
      ]
     },
     "execution_count": 11,
     "metadata": {},
     "output_type": "execute_result"
    }
   ],
   "source": [
    "#creates predicted rotten tomato scores based on x (IMDb) test dataset\n",
    "y_predicted = linearModel.predict(x_test)\n",
    "y_predicted"
   ]
  },
  {
   "cell_type": "code",
   "execution_count": 12,
   "id": "38bea517",
   "metadata": {},
   "outputs": [
    {
     "data": {
      "text/html": [
       "<div>\n",
       "<style scoped>\n",
       "    .dataframe tbody tr th:only-of-type {\n",
       "        vertical-align: middle;\n",
       "    }\n",
       "\n",
       "    .dataframe tbody tr th {\n",
       "        vertical-align: top;\n",
       "    }\n",
       "\n",
       "    .dataframe thead th {\n",
       "        text-align: right;\n",
       "    }\n",
       "</style>\n",
       "<table border=\"1\" class=\"dataframe\">\n",
       "  <thead>\n",
       "    <tr style=\"text-align: right;\">\n",
       "      <th></th>\n",
       "      <th>predicted_RT</th>\n",
       "    </tr>\n",
       "  </thead>\n",
       "  <tbody>\n",
       "    <tr>\n",
       "      <th>0</th>\n",
       "      <td>0.465891</td>\n",
       "    </tr>\n",
       "    <tr>\n",
       "      <th>1</th>\n",
       "      <td>0.627210</td>\n",
       "    </tr>\n",
       "    <tr>\n",
       "      <th>2</th>\n",
       "      <td>0.768365</td>\n",
       "    </tr>\n",
       "    <tr>\n",
       "      <th>3</th>\n",
       "      <td>0.828859</td>\n",
       "    </tr>\n",
       "    <tr>\n",
       "      <th>4</th>\n",
       "      <td>0.546550</td>\n",
       "    </tr>\n",
       "  </tbody>\n",
       "</table>\n",
       "</div>"
      ],
      "text/plain": [
       "   predicted_RT\n",
       "0      0.465891\n",
       "1      0.627210\n",
       "2      0.768365\n",
       "3      0.828859\n",
       "4      0.546550"
      ]
     },
     "execution_count": 12,
     "metadata": {},
     "output_type": "execute_result"
    }
   ],
   "source": [
    "#store predicted rotten tomato scores as a column\n",
    "predicted_RT = pd.DataFrame(y_predicted,columns=['predicted_RT'])\n",
    "predicted_RT.head()"
   ]
  },
  {
   "cell_type": "code",
   "execution_count": 13,
   "id": "38662154",
   "metadata": {},
   "outputs": [
    {
     "data": {
      "text/html": [
       "<div>\n",
       "<style scoped>\n",
       "    .dataframe tbody tr th:only-of-type {\n",
       "        vertical-align: middle;\n",
       "    }\n",
       "\n",
       "    .dataframe tbody tr th {\n",
       "        vertical-align: top;\n",
       "    }\n",
       "\n",
       "    .dataframe thead th {\n",
       "        text-align: right;\n",
       "    }\n",
       "</style>\n",
       "<table border=\"1\" class=\"dataframe\">\n",
       "  <thead>\n",
       "    <tr style=\"text-align: right;\">\n",
       "      <th></th>\n",
       "      <th>predicted_RT</th>\n",
       "      <th>IMDb</th>\n",
       "      <th>rotten_tomatoes</th>\n",
       "    </tr>\n",
       "  </thead>\n",
       "  <tbody>\n",
       "    <tr>\n",
       "      <th>0</th>\n",
       "      <td>0.465891</td>\n",
       "      <td>6.2</td>\n",
       "      <td>0.89</td>\n",
       "    </tr>\n",
       "    <tr>\n",
       "      <th>1</th>\n",
       "      <td>0.627210</td>\n",
       "      <td>7.0</td>\n",
       "      <td>0.61</td>\n",
       "    </tr>\n",
       "    <tr>\n",
       "      <th>2</th>\n",
       "      <td>0.768365</td>\n",
       "      <td>7.7</td>\n",
       "      <td>0.73</td>\n",
       "    </tr>\n",
       "    <tr>\n",
       "      <th>3</th>\n",
       "      <td>0.828859</td>\n",
       "      <td>8.0</td>\n",
       "      <td>0.91</td>\n",
       "    </tr>\n",
       "    <tr>\n",
       "      <th>4</th>\n",
       "      <td>0.546550</td>\n",
       "      <td>6.6</td>\n",
       "      <td>0.67</td>\n",
       "    </tr>\n",
       "  </tbody>\n",
       "</table>\n",
       "</div>"
      ],
      "text/plain": [
       "   predicted_RT  IMDb  rotten_tomatoes\n",
       "0      0.465891   6.2             0.89\n",
       "1      0.627210   7.0             0.61\n",
       "2      0.768365   7.7             0.73\n",
       "3      0.828859   8.0             0.91\n",
       "4      0.546550   6.6             0.67"
      ]
     },
     "execution_count": 13,
     "metadata": {},
     "output_type": "execute_result"
    }
   ],
   "source": [
    "# Join the y_test and predicted data with the x_test data, save the joined data in a new DataFrame, \n",
    "combined = predicted_RT.join([x_test.reset_index(drop=True),\n",
    "y_test.reset_index(drop=True)])\n",
    "combined.head()"
   ]
  },
  {
   "cell_type": "code",
   "execution_count": 14,
   "id": "71f4def6",
   "metadata": {},
   "outputs": [
    {
     "data": {
      "text/html": [
       "<div>\n",
       "<style scoped>\n",
       "    .dataframe tbody tr th:only-of-type {\n",
       "        vertical-align: middle;\n",
       "    }\n",
       "\n",
       "    .dataframe tbody tr th {\n",
       "        vertical-align: top;\n",
       "    }\n",
       "\n",
       "    .dataframe thead th {\n",
       "        text-align: right;\n",
       "    }\n",
       "</style>\n",
       "<table border=\"1\" class=\"dataframe\">\n",
       "  <thead>\n",
       "    <tr style=\"text-align: right;\">\n",
       "      <th></th>\n",
       "      <th>IMDb</th>\n",
       "      <th>Rotten Tomatoes</th>\n",
       "      <th>RT_score</th>\n",
       "    </tr>\n",
       "  </thead>\n",
       "  <tbody>\n",
       "    <tr>\n",
       "      <th>0</th>\n",
       "      <td>6.2</td>\n",
       "      <td>rotten_tomatoes</td>\n",
       "      <td>0.890000</td>\n",
       "    </tr>\n",
       "    <tr>\n",
       "      <th>1</th>\n",
       "      <td>7.0</td>\n",
       "      <td>rotten_tomatoes</td>\n",
       "      <td>0.610000</td>\n",
       "    </tr>\n",
       "    <tr>\n",
       "      <th>2</th>\n",
       "      <td>7.7</td>\n",
       "      <td>rotten_tomatoes</td>\n",
       "      <td>0.730000</td>\n",
       "    </tr>\n",
       "    <tr>\n",
       "      <th>3</th>\n",
       "      <td>8.0</td>\n",
       "      <td>rotten_tomatoes</td>\n",
       "      <td>0.910000</td>\n",
       "    </tr>\n",
       "    <tr>\n",
       "      <th>4</th>\n",
       "      <td>6.6</td>\n",
       "      <td>rotten_tomatoes</td>\n",
       "      <td>0.670000</td>\n",
       "    </tr>\n",
       "    <tr>\n",
       "      <th>5</th>\n",
       "      <td>7.0</td>\n",
       "      <td>rotten_tomatoes</td>\n",
       "      <td>0.540000</td>\n",
       "    </tr>\n",
       "    <tr>\n",
       "      <th>6</th>\n",
       "      <td>8.2</td>\n",
       "      <td>rotten_tomatoes</td>\n",
       "      <td>0.990000</td>\n",
       "    </tr>\n",
       "    <tr>\n",
       "      <th>7</th>\n",
       "      <td>7.0</td>\n",
       "      <td>rotten_tomatoes</td>\n",
       "      <td>0.850000</td>\n",
       "    </tr>\n",
       "    <tr>\n",
       "      <th>8</th>\n",
       "      <td>8.0</td>\n",
       "      <td>rotten_tomatoes</td>\n",
       "      <td>0.840000</td>\n",
       "    </tr>\n",
       "    <tr>\n",
       "      <th>9</th>\n",
       "      <td>6.2</td>\n",
       "      <td>rotten_tomatoes</td>\n",
       "      <td>0.160000</td>\n",
       "    </tr>\n",
       "    <tr>\n",
       "      <th>10</th>\n",
       "      <td>5.8</td>\n",
       "      <td>rotten_tomatoes</td>\n",
       "      <td>0.230000</td>\n",
       "    </tr>\n",
       "    <tr>\n",
       "      <th>11</th>\n",
       "      <td>5.0</td>\n",
       "      <td>rotten_tomatoes</td>\n",
       "      <td>0.830000</td>\n",
       "    </tr>\n",
       "    <tr>\n",
       "      <th>12</th>\n",
       "      <td>8.0</td>\n",
       "      <td>rotten_tomatoes</td>\n",
       "      <td>0.760000</td>\n",
       "    </tr>\n",
       "    <tr>\n",
       "      <th>13</th>\n",
       "      <td>6.6</td>\n",
       "      <td>rotten_tomatoes</td>\n",
       "      <td>0.390000</td>\n",
       "    </tr>\n",
       "    <tr>\n",
       "      <th>14</th>\n",
       "      <td>5.4</td>\n",
       "      <td>rotten_tomatoes</td>\n",
       "      <td>0.260000</td>\n",
       "    </tr>\n",
       "    <tr>\n",
       "      <th>15</th>\n",
       "      <td>7.2</td>\n",
       "      <td>rotten_tomatoes</td>\n",
       "      <td>0.750000</td>\n",
       "    </tr>\n",
       "    <tr>\n",
       "      <th>16</th>\n",
       "      <td>6.0</td>\n",
       "      <td>rotten_tomatoes</td>\n",
       "      <td>0.480000</td>\n",
       "    </tr>\n",
       "    <tr>\n",
       "      <th>17</th>\n",
       "      <td>7.2</td>\n",
       "      <td>rotten_tomatoes</td>\n",
       "      <td>0.680000</td>\n",
       "    </tr>\n",
       "    <tr>\n",
       "      <th>18</th>\n",
       "      <td>2.8</td>\n",
       "      <td>rotten_tomatoes</td>\n",
       "      <td>0.070000</td>\n",
       "    </tr>\n",
       "    <tr>\n",
       "      <th>19</th>\n",
       "      <td>8.6</td>\n",
       "      <td>rotten_tomatoes</td>\n",
       "      <td>0.790000</td>\n",
       "    </tr>\n",
       "    <tr>\n",
       "      <th>20</th>\n",
       "      <td>7.2</td>\n",
       "      <td>rotten_tomatoes</td>\n",
       "      <td>0.920000</td>\n",
       "    </tr>\n",
       "    <tr>\n",
       "      <th>21</th>\n",
       "      <td>6.7</td>\n",
       "      <td>rotten_tomatoes</td>\n",
       "      <td>0.450000</td>\n",
       "    </tr>\n",
       "    <tr>\n",
       "      <th>22</th>\n",
       "      <td>5.8</td>\n",
       "      <td>rotten_tomatoes</td>\n",
       "      <td>0.390000</td>\n",
       "    </tr>\n",
       "    <tr>\n",
       "      <th>23</th>\n",
       "      <td>6.2</td>\n",
       "      <td>predicted_RT</td>\n",
       "      <td>0.465891</td>\n",
       "    </tr>\n",
       "    <tr>\n",
       "      <th>24</th>\n",
       "      <td>7.0</td>\n",
       "      <td>predicted_RT</td>\n",
       "      <td>0.627210</td>\n",
       "    </tr>\n",
       "    <tr>\n",
       "      <th>25</th>\n",
       "      <td>7.7</td>\n",
       "      <td>predicted_RT</td>\n",
       "      <td>0.768365</td>\n",
       "    </tr>\n",
       "    <tr>\n",
       "      <th>26</th>\n",
       "      <td>8.0</td>\n",
       "      <td>predicted_RT</td>\n",
       "      <td>0.828859</td>\n",
       "    </tr>\n",
       "    <tr>\n",
       "      <th>27</th>\n",
       "      <td>6.6</td>\n",
       "      <td>predicted_RT</td>\n",
       "      <td>0.546550</td>\n",
       "    </tr>\n",
       "    <tr>\n",
       "      <th>28</th>\n",
       "      <td>7.0</td>\n",
       "      <td>predicted_RT</td>\n",
       "      <td>0.627210</td>\n",
       "    </tr>\n",
       "    <tr>\n",
       "      <th>29</th>\n",
       "      <td>8.2</td>\n",
       "      <td>predicted_RT</td>\n",
       "      <td>0.869189</td>\n",
       "    </tr>\n",
       "    <tr>\n",
       "      <th>30</th>\n",
       "      <td>7.0</td>\n",
       "      <td>predicted_RT</td>\n",
       "      <td>0.627210</td>\n",
       "    </tr>\n",
       "    <tr>\n",
       "      <th>31</th>\n",
       "      <td>8.0</td>\n",
       "      <td>predicted_RT</td>\n",
       "      <td>0.828859</td>\n",
       "    </tr>\n",
       "    <tr>\n",
       "      <th>32</th>\n",
       "      <td>6.2</td>\n",
       "      <td>predicted_RT</td>\n",
       "      <td>0.465891</td>\n",
       "    </tr>\n",
       "    <tr>\n",
       "      <th>33</th>\n",
       "      <td>5.8</td>\n",
       "      <td>predicted_RT</td>\n",
       "      <td>0.385231</td>\n",
       "    </tr>\n",
       "    <tr>\n",
       "      <th>34</th>\n",
       "      <td>5.0</td>\n",
       "      <td>predicted_RT</td>\n",
       "      <td>0.223912</td>\n",
       "    </tr>\n",
       "    <tr>\n",
       "      <th>35</th>\n",
       "      <td>8.0</td>\n",
       "      <td>predicted_RT</td>\n",
       "      <td>0.828859</td>\n",
       "    </tr>\n",
       "    <tr>\n",
       "      <th>36</th>\n",
       "      <td>6.6</td>\n",
       "      <td>predicted_RT</td>\n",
       "      <td>0.546550</td>\n",
       "    </tr>\n",
       "    <tr>\n",
       "      <th>37</th>\n",
       "      <td>5.4</td>\n",
       "      <td>predicted_RT</td>\n",
       "      <td>0.304571</td>\n",
       "    </tr>\n",
       "    <tr>\n",
       "      <th>38</th>\n",
       "      <td>7.2</td>\n",
       "      <td>predicted_RT</td>\n",
       "      <td>0.667540</td>\n",
       "    </tr>\n",
       "    <tr>\n",
       "      <th>39</th>\n",
       "      <td>6.0</td>\n",
       "      <td>predicted_RT</td>\n",
       "      <td>0.425561</td>\n",
       "    </tr>\n",
       "    <tr>\n",
       "      <th>40</th>\n",
       "      <td>7.2</td>\n",
       "      <td>predicted_RT</td>\n",
       "      <td>0.667540</td>\n",
       "    </tr>\n",
       "    <tr>\n",
       "      <th>41</th>\n",
       "      <td>2.8</td>\n",
       "      <td>predicted_RT</td>\n",
       "      <td>-0.219717</td>\n",
       "    </tr>\n",
       "    <tr>\n",
       "      <th>42</th>\n",
       "      <td>8.6</td>\n",
       "      <td>predicted_RT</td>\n",
       "      <td>0.949849</td>\n",
       "    </tr>\n",
       "    <tr>\n",
       "      <th>43</th>\n",
       "      <td>7.2</td>\n",
       "      <td>predicted_RT</td>\n",
       "      <td>0.667540</td>\n",
       "    </tr>\n",
       "    <tr>\n",
       "      <th>44</th>\n",
       "      <td>6.7</td>\n",
       "      <td>predicted_RT</td>\n",
       "      <td>0.566715</td>\n",
       "    </tr>\n",
       "    <tr>\n",
       "      <th>45</th>\n",
       "      <td>5.8</td>\n",
       "      <td>predicted_RT</td>\n",
       "      <td>0.385231</td>\n",
       "    </tr>\n",
       "  </tbody>\n",
       "</table>\n",
       "</div>"
      ],
      "text/plain": [
       "    IMDb  Rotten Tomatoes  RT_score\n",
       "0    6.2  rotten_tomatoes  0.890000\n",
       "1    7.0  rotten_tomatoes  0.610000\n",
       "2    7.7  rotten_tomatoes  0.730000\n",
       "3    8.0  rotten_tomatoes  0.910000\n",
       "4    6.6  rotten_tomatoes  0.670000\n",
       "5    7.0  rotten_tomatoes  0.540000\n",
       "6    8.2  rotten_tomatoes  0.990000\n",
       "7    7.0  rotten_tomatoes  0.850000\n",
       "8    8.0  rotten_tomatoes  0.840000\n",
       "9    6.2  rotten_tomatoes  0.160000\n",
       "10   5.8  rotten_tomatoes  0.230000\n",
       "11   5.0  rotten_tomatoes  0.830000\n",
       "12   8.0  rotten_tomatoes  0.760000\n",
       "13   6.6  rotten_tomatoes  0.390000\n",
       "14   5.4  rotten_tomatoes  0.260000\n",
       "15   7.2  rotten_tomatoes  0.750000\n",
       "16   6.0  rotten_tomatoes  0.480000\n",
       "17   7.2  rotten_tomatoes  0.680000\n",
       "18   2.8  rotten_tomatoes  0.070000\n",
       "19   8.6  rotten_tomatoes  0.790000\n",
       "20   7.2  rotten_tomatoes  0.920000\n",
       "21   6.7  rotten_tomatoes  0.450000\n",
       "22   5.8  rotten_tomatoes  0.390000\n",
       "23   6.2     predicted_RT  0.465891\n",
       "24   7.0     predicted_RT  0.627210\n",
       "25   7.7     predicted_RT  0.768365\n",
       "26   8.0     predicted_RT  0.828859\n",
       "27   6.6     predicted_RT  0.546550\n",
       "28   7.0     predicted_RT  0.627210\n",
       "29   8.2     predicted_RT  0.869189\n",
       "30   7.0     predicted_RT  0.627210\n",
       "31   8.0     predicted_RT  0.828859\n",
       "32   6.2     predicted_RT  0.465891\n",
       "33   5.8     predicted_RT  0.385231\n",
       "34   5.0     predicted_RT  0.223912\n",
       "35   8.0     predicted_RT  0.828859\n",
       "36   6.6     predicted_RT  0.546550\n",
       "37   5.4     predicted_RT  0.304571\n",
       "38   7.2     predicted_RT  0.667540\n",
       "39   6.0     predicted_RT  0.425561\n",
       "40   7.2     predicted_RT  0.667540\n",
       "41   2.8     predicted_RT -0.219717\n",
       "42   8.6     predicted_RT  0.949849\n",
       "43   7.2     predicted_RT  0.667540\n",
       "44   6.7     predicted_RT  0.566715\n",
       "45   5.8     predicted_RT  0.385231"
      ]
     },
     "execution_count": 14,
     "metadata": {},
     "output_type": "execute_result"
    }
   ],
   "source": [
    "#10. Melt the actual and predicted price columns together, assigning appropriate values to the variable and value names.\n",
    "melted = pd.melt(combined, id_vars=['IMDb'], \n",
    "value_vars=['rotten_tomatoes','predicted_RT'], \n",
    "var_name='Rotten Tomatoes',\n",
    "value_name='RT_score')\n",
    "melted"
   ]
  },
  {
   "cell_type": "code",
   "execution_count": 15,
   "id": "4ae065f1",
   "metadata": {},
   "outputs": [
    {
     "data": {
      "text/plain": [
       "<seaborn.axisgrid.FacetGrid at 0x19955578c40>"
      ]
     },
     "execution_count": 15,
     "metadata": {},
     "output_type": "execute_result"
    },
    {
     "data": {
      "image/png": "[encoded data removed]",
      "text/plain": [
       "<Figure size 478x360 with 1 Axes>"
      ]
     },
     "metadata": {
      "needs_background": "light"
     },
     "output_type": "display_data"
    }
   ],
   "source": [
    "# Use a Seaborn line plot without a confidence interval to plot the predicted data.\n",
    "sns.relplot(data=melted, x='IMDb', y='RT_score', \n",
    "hue='Rotten Tomatoes')"
   ]
  },
  {
   "cell_type": "markdown",
   "id": "2b4d1888",
   "metadata": {},
   "source": [
    "## Hypothesis Testing"
   ]
  },
  {
   "cell_type": "code",
   "execution_count": 16,
   "id": "26849d88",
   "metadata": {},
   "outputs": [],
   "source": [
    "#H0: There is no relationship between IMDb and Rotten Tomatoe scores   B = 0\n",
    "#HA: There is a relationship  between IMDb and Rotten Tomatoe scores   B != 0 \n",
    "#Two tailed test"
   ]
  },
  {
   "cell_type": "code",
   "execution_count": 17,
   "id": "65dec1b9",
   "metadata": {},
   "outputs": [],
   "source": [
    "import statsmodels.formula.api as smf"
   ]
  },
  {
   "cell_type": "code",
   "execution_count": 18,
   "id": "b6a474a0",
   "metadata": {},
   "outputs": [
    {
     "data": {
      "text/html": [
       "<table class=\"simpletable\">\n",
       "<tr>\n",
       "      <td></td>         <th>coef</th>     <th>std err</th>      <th>t</th>      <th>P>|t|</th>  <th>[0.025</th>    <th>0.975]</th>  \n",
       "</tr>\n",
       "<tr>\n",
       "  <th>Intercept</th> <td>   -0.6098</td> <td>    0.140</td> <td>   -4.367</td> <td> 0.000</td> <td>   -0.889</td> <td>   -0.331</td>\n",
       "</tr>\n",
       "<tr>\n",
       "  <th>IMDb</th>      <td>    0.1778</td> <td>    0.021</td> <td>    8.542</td> <td> 0.000</td> <td>    0.136</td> <td>    0.219</td>\n",
       "</tr>\n",
       "</table>"
      ],
      "text/plain": [
       "<class 'statsmodels.iolib.table.SimpleTable'>"
      ]
     },
     "execution_count": 18,
     "metadata": {},
     "output_type": "execute_result"
    }
   ],
   "source": [
    "#displays summary table for hypothesis test for linear regression \n",
    "lr = smf.ols(formula = \"rotten_tomatoes ~ IMDb\", data=df).fit()\n",
    "lr.summary().tables[1]"
   ]
  },
  {
   "cell_type": "code",
   "execution_count": 19,
   "id": "db6a8c09",
   "metadata": {},
   "outputs": [],
   "source": [
    "# t stats = 8.542 standard deviation that predicted Y is from the mean. \n",
    "#  8.542 > 1.96 so reject the null hypthesis and say that there is a relationship. \n",
    "# small p value so reject the null hypthesis and say that there is a relationship. "
   ]
  },
  {
   "cell_type": "code",
   "execution_count": 20,
   "id": "d92d5ffa",
   "metadata": {},
   "outputs": [],
   "source": [
    "conn.close()"
   ]
  },
  {
   "cell_type": "code",
   "execution_count": null,
   "id": "896158a5",
   "metadata": {},
   "outputs": [],
   "source": []
  }
 ],
 "metadata": {
  "kernelspec": {
   "display_name": "Python 3 (ipykernel)",
   "language": "python",
   "name": "python3"
  },
  "language_info": {
   "codemirror_mode": {
    "name": "ipython",
    "version": 3
   },
   "file_extension": ".py",
   "mimetype": "text/x-python",
   "name": "python",
   "nbconvert_exporter": "python",
   "pygments_lexer": "ipython3",
   "version": "3.9.12"
  }
 },
 "nbformat": 4,
 "nbformat_minor": 5
}
